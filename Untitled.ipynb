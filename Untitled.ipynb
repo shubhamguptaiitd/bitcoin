{
 "cells": [
  {
   "cell_type": "code",
   "execution_count": 20,
   "metadata": {},
   "outputs": [],
   "source": [
    "from MerkleTree import get_hash,create_merkle_tree,verify_transaction_given_merkle_tree_and_merkle_root\n",
    "import random\n",
    "def count_leading_zero_string(string):\n",
    "    return len(string) - len(string.lstrip('0'))\n",
    "class Block():\n",
    "    \n",
    "    def __init__(self,proof_of_work_zeros,index,narry,transactions,previous_block_hash):\n",
    "        self.previous_block_hash = previous_block_hash\n",
    "        self.narry = narry\n",
    "        self.transactions = transactions\n",
    "        self.merkle_tree = create_merkle_tree(self.transactions,self.narry) #### given the list of transactions, create their hashes and get the\n",
    "        self.merkle_tree_root = self.merkle_tree[-1][0]\n",
    "        self.index = index\n",
    "        self.pow_number_of_zeros = proof_of_work_zeros\n",
    "        print(\"computing proof of work\")\n",
    "        self.compute_proof_of_work()\n",
    "        self.magic_number = None\n",
    "        self.version = None ### It specifies the \n",
    "        self.transactions_count = len(self.transactions)\n",
    "        self.block_reward = None\n",
    "        self.fee_reward = None\n",
    "    def compute_proof_of_work(self):\n",
    "        self.block_hash = ''\n",
    "        self.nounce = 0\n",
    "        while count_leading_zero_string(self.block_hash) != self.pow_number_of_zeros:\n",
    "            string = self.merkle_tree_root + self.previous_block_hash + str(self.nounce)\n",
    "            self.block_hash = get_hash(string)\n",
    "            self.nounce += 1\n",
    "            if self.nounce%1000000 == 0:\n",
    "                print(\"done nounce,\", self.nounce)\n",
    "        self.nounce = self.nounce - 1\n",
    "        \n",
    "        \n",
    "class BlockChain():\n",
    "    def __init__(self,narry,proof_of_work_zeros):\n",
    "        self.proof_of_work_zeros = proof_of_work_zeros\n",
    "        self.narry= narry\n",
    "        self.blockchain = []\n",
    "        self.blockchain.append(self.genesis_block())\n",
    "    def genesis_block(self):\n",
    "        return Block(self.proof_of_work_zeros,0,self.narry,['dummy'],'0')\n",
    "        \n",
    "    def add_block(block):\n",
    "        #### code for verifing the new block\n",
    "        #### Add the code in blockchain if verified #####\n",
    "        self.blockchain.append(block)  #### also need to see if block is referencing to previous member of block, forking will happen\n",
    "        \n",
    "        \n",
    "        "
   ]
  },
  {
   "cell_type": "code",
   "execution_count": 23,
   "metadata": {},
   "outputs": [
    {
     "name": "stdout",
     "output_type": "stream",
     "text": [
      "computing proof of work\n"
     ]
    }
   ],
   "source": [
    "a  = BlockChain(3,4)"
   ]
  },
  {
   "cell_type": "code",
   "execution_count": 28,
   "metadata": {},
   "outputs": [
    {
     "data": {
      "text/plain": [
       "'00005d8e3e477c1c104c48cdb7e8dd02fbf62b2e91f616abb1c842a0866c602e'"
      ]
     },
     "execution_count": 28,
     "metadata": {},
     "output_type": "execute_result"
    }
   ],
   "source": []
  },
  {
   "cell_type": "code",
   "execution_count": 15,
   "metadata": {},
   "outputs": [
    {
     "name": "stdout",
     "output_type": "stream",
     "text": [
      "computing proof of work\n",
      "done nounce, 1000000\n",
      "done nounce, 2000000\n",
      "done nounce, 3000000\n",
      "done nounce, 4000000\n",
      "done nounce, 5000000\n",
      "done nounce, 6000000\n",
      "done nounce, 7000000\n",
      "done nounce, 8000000\n",
      "done nounce, 9000000\n",
      "done nounce, 10000000\n",
      "done nounce, 11000000\n",
      "done nounce, 12000000\n",
      "done nounce, 13000000\n",
      "done nounce, 14000000\n",
      "done nounce, 15000000\n",
      "done nounce, 16000000\n",
      "done nounce, 17000000\n",
      "done nounce, 18000000\n",
      "done nounce, 19000000\n"
     ]
    }
   ],
   "source": [
    "transactions = ['a','b','c','d','e']\n",
    "block = Block(6,0,3,transactions,'dlafdffafdafdafladsfdasfafafafafasfdafadadfa')"
   ]
  },
  {
   "cell_type": "code",
   "execution_count": 17,
   "metadata": {},
   "outputs": [
    {
     "data": {
      "text/plain": [
       "19662607"
      ]
     },
     "execution_count": 17,
     "metadata": {},
     "output_type": "execute_result"
    }
   ],
   "source": [
    "block.nounce"
   ]
  },
  {
   "cell_type": "code",
   "execution_count": 19,
   "metadata": {},
   "outputs": [
    {
     "data": {
      "text/plain": [
       "'000000453193f8740924c4f3b9c3533401c0c774d27758b8407b938bb5f28442'"
      ]
     },
     "execution_count": 19,
     "metadata": {},
     "output_type": "execute_result"
    }
   ],
   "source": [
    "get_hash(block.merkle_tree_root+'dlafdffafdafdafladsfdasfafafafafasfdafadadfa'+'19662606')"
   ]
  },
  {
   "cell_type": "code",
   "execution_count": null,
   "metadata": {},
   "outputs": [],
   "source": []
  }
 ],
 "metadata": {
  "kernelspec": {
   "display_name": "Python 3",
   "language": "python",
   "name": "python3"
  },
  "language_info": {
   "codemirror_mode": {
    "name": "ipython",
    "version": 3
   },
   "file_extension": ".py",
   "mimetype": "text/x-python",
   "name": "python",
   "nbconvert_exporter": "python",
   "pygments_lexer": "ipython3",
   "version": "3.7.3"
  }
 },
 "nbformat": 4,
 "nbformat_minor": 4
}
