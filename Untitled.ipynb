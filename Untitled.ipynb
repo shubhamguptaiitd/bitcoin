{
 "cells": [
  {
   "cell_type": "code",
   "execution_count": 56,
   "metadata": {},
   "outputs": [],
   "source": [
    "from MerkleTree import generate_hash,create_merkle_tree,verify_transaction_given_merkle_tree_and_merkle_root\n",
    "import random\n",
    "def count_leading_zero_string(string):\n",
    "    return len(string) - len(string.lstrip('0'))\n",
    "class Block():\n",
    "    \n",
    "    def __init__(self,proof_of_work_zeros,index,narry,transactions,previous_block_hash):\n",
    "        self.previous_block_hash = previous_block_hash\n",
    "        self.narry = narry\n",
    "        self.transactions = transactions\n",
    "        self.merkle_tree = create_merkle_tree([item.txid for item in self.transactions],self.narry) #### given the list of transactions, create their hashes and get the\n",
    "        self.merkle_tree_root = self.merkle_tree[-1][0]\n",
    "        self.index = index\n",
    "        self.pow_number_of_zeros = proof_of_work_zeros\n",
    "        print(\"computing proof of work\")\n",
    "        self.compute_proof_of_work()\n",
    "        self.transactions_count = len(self.transactions)\n",
    "        self.block_reward = None\n",
    "        self.fee_reward = None\n",
    "    def compute_proof_of_work(self):\n",
    "        self.block_hash = ''\n",
    "        self.nounce = 0\n",
    "        while count_leading_zero_string(self.block_hash) != self.pow_number_of_zeros:\n",
    "            string = self.merkle_tree_root + self.previous_block_hash + str(self.nounce)\n",
    "            self.block_hash = generate_hash(string)\n",
    "            self.nounce += 1\n",
    "            if self.nounce%1000000 == 0:\n",
    "                print(\"done nounce,\", self.nounce)\n",
    "        self.nounce = self.nounce - 1\n",
    "        \n",
    "        \n",
    "class BlockChain():\n",
    "    def __init__(self,narry,proof_of_work_zeros):\n",
    "        self.proof_of_work_zeros = proof_of_work_zeros\n",
    "        self.narry= narry\n",
    "        self.blockchain = []\n",
    "        self.blockchain.append(self.genesis_block())\n",
    "    def genesis_block(self):\n",
    "        return Block(self.proof_of_work_zeros,0,self.narry,['dummy'],'0')\n",
    "        \n",
    "    def add_block(block):\n",
    "        #### code for verifing the new block\n",
    "        #### Add the code in blockchain if verified #####\n",
    "        self.blockchain.append(block)  #### also need to see if block is referencing to previous member of block, forking will happen\n",
    "        \n",
    "        "
   ]
  },
  {
   "cell_type": "code",
   "execution_count": null,
   "metadata": {},
   "outputs": [],
   "source": [
    "a  = BlockChain(3,4)"
   ]
  },
  {
   "cell_type": "code",
   "execution_count": 26,
   "metadata": {},
   "outputs": [],
   "source": [
    "from crypto_functions import generate_hash,generate_public_private_keys,key_in_RSA_object,sign_data,verify_sign\n",
    "import base64\n",
    "pub,pri = generate_public_private_keys()\n",
    "pub = key_in_RSA_object(pub)\n",
    "pri = key_in_RSA_object(pri)\n",
    "\n",
    "message = \"I need to sign this\"\n",
    "sign = sign_data(message,pri)\n",
    "#sign == bytes.fromhex(sign.hex())\n"
   ]
  },
  {
   "cell_type": "code",
   "execution_count": 46,
   "metadata": {},
   "outputs": [],
   "source": [
    "from crypto_functions import generate_hash,generate_public_private_keys,key_in_RSA_object,sign_data,verify_sign\n",
    "\n",
    "class Transaction():\n",
    "    def __init__(self,sender_address,inputs,outputs,private_key):\n",
    "        self.tx_in_ct = len(inputs)\n",
    "        self.tx_in = inputs\n",
    "        self.tx_out_ct = len(outputs)\n",
    "        self.tx_out = outputs\n",
    "        self.time = str(int(time.time()))\n",
    "        self.sender_address = sender_address.hex()  ### sender_address/publickey in bytes\n",
    "        self.sign = self.sign_transaction(key_in_RSA_object(private_key)) ### private_key is byte\n",
    "        self.idx = generate_hash(str(self))\n",
    "    def __str__(self):\n",
    "        rep = self.time + str(self.tx_in_ct) + str(self.tx_out_ct) +\"--\"\n",
    "        for tx in self.tx_in:\n",
    "            rep+= str(tx)\n",
    "        for tx in self.tx_out:\n",
    "            rep+= str(tx)\n",
    "        rep += self.sender_address\n",
    "        return rep\n",
    "    def sign_transaction(self,private_key):\n",
    "        return sign_data(str(self),private_key)\n",
    "    def verify_sign_transaction(self):\n",
    "        return verify_sign(str(self),self.sign,key_in_RSA_object(bytes.fromhex(self.sender_address)))\n",
    "        \n",
    "        \n",
    "class Input():\n",
    "    def __init__(self,prev_output_tid,index):\n",
    "        self.prev_output_tid = prev_output_tid\n",
    "        self.prev_output_index = index\n",
    "    def __str__(self):\n",
    "        return str(self.prev_output_tid) + \"--\" + str(self.prev_output_index)\n",
    "class Output():\n",
    "    def __init__(self,to_address,amount): ###to_address is hexadecimal\n",
    "        self.to_address = generate_hash(to_address)\n",
    "        self.amount = amount\n",
    "    def __str__(self):\n",
    "        return str(self.to_address) +\"--\" +str(self.amount)\n",
    "\n",
    "    \n",
    "\n"
   ]
  },
  {
   "cell_type": "code",
   "execution_count": 42,
   "metadata": {},
   "outputs": [],
   "source": [
    "send_add = pub.exportKey('PEM')\n",
    "private_key = pri.exportKey('PEM')"
   ]
  },
  {
   "cell_type": "code",
   "execution_count": 47,
   "metadata": {},
   "outputs": [
    {
     "name": "stdout",
     "output_type": "stream",
     "text": [
      "2d2d2d2d2d424547494e205055424c4943204b45592d2d2d2d2d0a4d4947664d413047435371475349623344514542415155414134474e4144434269514b426751434e5271306171417639566e37386862784732305875487346720a593869394578414858484f2f756b596430774352706a614735556776506f7479666969655851573243754e57474f4d7a512b72723241734c4e69544a61756e6f0a745a466f2f67445643436750575752383961716a31774f5063556337536b6963774c6b77582b4534736170666639383554456f61786279706a463879566b2b430a746665684a3877615573722f4658786c72774944415141420a2d2d2d2d2d454e44205055424c4943204b45592d2d2d2d2d\n"
     ]
    }
   ],
   "source": [
    "input1 = Input('1313131',0)\n",
    "input2 = Input('3113131',1)\n",
    "output1 = Output('763231',10)\n",
    "print(send_add.hex())\n",
    "output2 = Output(send_add.hex(),95)"
   ]
  },
  {
   "cell_type": "code",
   "execution_count": 48,
   "metadata": {},
   "outputs": [],
   "source": [
    "t = Transaction(send_add,[input1,input2],[output1,output2],private_key)"
   ]
  },
  {
   "cell_type": "code",
   "execution_count": 53,
   "metadata": {},
   "outputs": [],
   "source": [
    "t.tx_in_ct = 3"
   ]
  },
  {
   "cell_type": "code",
   "execution_count": 54,
   "metadata": {},
   "outputs": [
    {
     "data": {
      "text/plain": [
       "False"
      ]
     },
     "execution_count": 54,
     "metadata": {},
     "output_type": "execute_result"
    }
   ],
   "source": [
    "t.verify_sign_transaction()"
   ]
  },
  {
   "cell_type": "code",
   "execution_count": 24,
   "metadata": {},
   "outputs": [
    {
     "name": "stdout",
     "output_type": "stream",
     "text": [
      "b'-----BEGIN PUBLIC KEY-----\\nMIGfMA0GCSqGSIb3DQEBAQUAA4GNADCBiQKBgQCr1KC99yxSpNJt8eA9VDeN9pO1\\nTUUP45wqNFqvY+hTF1Z7LPWWo1End+yvWb03X5RxPdlptPQDR3GI3Dcca+MbQiCl\\n7VtErdD6SkhqqqI3FXRuUA8a2a3JEFXFIwq9CAkMxRC00BkkFh2Xw+Fg2bXEGk/X\\nheIlXLYEMBKDKTOk4QIDAQAB\\n-----END PUBLIC KEY-----'\n"
     ]
    }
   ],
   "source": [
    "a = pub.exportKey('PEM')\n",
    "print(a)"
   ]
  },
  {
   "cell_type": "code",
   "execution_count": 11,
   "metadata": {},
   "outputs": [
    {
     "data": {
      "text/plain": [
       "'3fe1f7584833183e2da842b2f18123186919d4aa9828dbebdb3956429d9607bb--0'"
      ]
     },
     "execution_count": 11,
     "metadata": {},
     "output_type": "execute_result"
    }
   ],
   "source": [
    "str((generate_hash('131313'),0))\n"
   ]
  },
  {
   "cell_type": "code",
   "execution_count": 6,
   "metadata": {},
   "outputs": [
    {
     "data": {
      "text/plain": [
       "'1592335755.3907351'"
      ]
     },
     "execution_count": 6,
     "metadata": {},
     "output_type": "execute_result"
    }
   ],
   "source": [
    "import time\n",
    "seconds = time.time()\n",
    "str(seconds)"
   ]
  },
  {
   "cell_type": "code",
   "execution_count": null,
   "metadata": {},
   "outputs": [],
   "source": [
    "transactions = ['a','b','c','d','e']\n",
    "block = Block(6,0,3,transactions,'dlafdffafdafdafladsfdasfafafafafasfdafadadfa')"
   ]
  },
  {
   "cell_type": "code",
   "execution_count": null,
   "metadata": {},
   "outputs": [],
   "source": [
    "block.nounce"
   ]
  },
  {
   "cell_type": "code",
   "execution_count": null,
   "metadata": {},
   "outputs": [],
   "source": [
    "get_hash(block.merkle_tree_root+'dlafdffafdafdafladsfdasfafafafafasfdafadadfa'+'19662606')"
   ]
  },
  {
   "cell_type": "code",
   "execution_count": null,
   "metadata": {},
   "outputs": [],
   "source": [
    "from Crypto.PublicKey import RSA"
   ]
  },
  {
   "cell_type": "code",
   "execution_count": null,
   "metadata": {},
   "outputs": [],
   "source": []
  }
 ],
 "metadata": {
  "kernelspec": {
   "display_name": "Python 3",
   "language": "python",
   "name": "python3"
  },
  "language_info": {
   "codemirror_mode": {
    "name": "ipython",
    "version": 3
   },
   "file_extension": ".py",
   "mimetype": "text/x-python",
   "name": "python",
   "nbconvert_exporter": "python",
   "pygments_lexer": "ipython3",
   "version": "3.7.3"
  }
 },
 "nbformat": 4,
 "nbformat_minor": 4
}
