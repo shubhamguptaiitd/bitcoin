{
 "cells": [
  {
   "cell_type": "code",
   "execution_count": 77,
   "metadata": {},
   "outputs": [],
   "source": [
    "from MerkleTree import generate_hash,create_merkle_tree,verify_transaction_given_merkle_tree_and_merkle_root\n",
    "import random\n",
    "def count_leading_zero_string(string):\n",
    "    return len(string) - len(string.lstrip('0'))\n",
    "class Block():\n",
    "    \n",
    "    def __init__(self,proof_of_work_zeros,index,narry,transactions,previous_block_hash):\n",
    "        self.previous_block_hash = previous_block_hash\n",
    "        self.narry = narry\n",
    "        self.transactions = transactions\n",
    "        self.merkle_tree = create_merkle_tree([item.txid for item in self.transactions],self.narry) #### given the list of transactions, create their hashes and get the\n",
    "        self.merkle_tree_root = self.merkle_tree[-1][0]\n",
    "        self.index = index\n",
    "        self.pow_number_of_zeros = proof_of_work_zeros\n",
    "        print(\"computing proof of work\")\n",
    "        self.compute_proof_of_work()\n",
    "        self.transactions_count = len(self.transactions)\n",
    "        self.block_reward = None\n",
    "        self.fee_reward = None\n",
    "    def compute_proof_of_work(self):\n",
    "        self.block_hash = ''\n",
    "        self.nounce = 0\n",
    "        while count_leading_zero_string(self.block_hash) != self.pow_number_of_zeros:\n",
    "            string = self.merkle_tree_root + self.previous_block_hash + str(self.nounce)\n",
    "            self.block_hash = generate_hash(string)\n",
    "            self.nounce += 1\n",
    "            if self.nounce%1000000 == 0:\n",
    "                print(\"done nounce,\", self.nounce)\n",
    "        self.nounce = self.nounce - 1\n",
    "        \n",
    "        \n",
    "class BlockChain():\n",
    "    def __init__(self,narry,proof_of_work_zeros):\n",
    "        self.proof_of_work_zeros = proof_of_work_zeros\n",
    "        self.narry= narry\n",
    "        self.blockchain = []\n",
    "        self.blockchain.append(self.genesis_block())\n",
    "    def genesis_block(self):\n",
    "        return Block(self.proof_of_work_zeros,0,self.narry,['dummy'],'0')\n",
    "        \n",
    "    def add_block(block):\n",
    "        #### code for verifing the new block\n",
    "        #### Add the code in blockchain if verified #####\n",
    "        self.blockchain.append(block)  #### also need to see if block is referencing to previous member of block, forking will happen\n",
    "        \n",
    "        "
   ]
  },
  {
   "cell_type": "code",
   "execution_count": 78,
   "metadata": {},
   "outputs": [
    {
     "ename": "AttributeError",
     "evalue": "'str' object has no attribute 'txid'",
     "output_type": "error",
     "traceback": [
      "\u001b[0;31m---------------------------------------------------------------------------\u001b[0m",
      "\u001b[0;31mAttributeError\u001b[0m                            Traceback (most recent call last)",
      "\u001b[0;32m<ipython-input-78-2f1cfc1f8407>\u001b[0m in \u001b[0;36m<module>\u001b[0;34m\u001b[0m\n\u001b[0;32m----> 1\u001b[0;31m \u001b[0ma\u001b[0m  \u001b[0;34m=\u001b[0m \u001b[0mBlockChain\u001b[0m\u001b[0;34m(\u001b[0m\u001b[0;36m3\u001b[0m\u001b[0;34m,\u001b[0m\u001b[0;36m4\u001b[0m\u001b[0;34m)\u001b[0m\u001b[0;34m\u001b[0m\u001b[0;34m\u001b[0m\u001b[0m\n\u001b[0m",
      "\u001b[0;32m<ipython-input-77-3a53a752791b>\u001b[0m in \u001b[0;36m__init__\u001b[0;34m(self, narry, proof_of_work_zeros)\u001b[0m\n\u001b[1;32m     35\u001b[0m         \u001b[0mself\u001b[0m\u001b[0;34m.\u001b[0m\u001b[0mnarry\u001b[0m\u001b[0;34m=\u001b[0m \u001b[0mnarry\u001b[0m\u001b[0;34m\u001b[0m\u001b[0;34m\u001b[0m\u001b[0m\n\u001b[1;32m     36\u001b[0m         \u001b[0mself\u001b[0m\u001b[0;34m.\u001b[0m\u001b[0mblockchain\u001b[0m \u001b[0;34m=\u001b[0m \u001b[0;34m[\u001b[0m\u001b[0;34m]\u001b[0m\u001b[0;34m\u001b[0m\u001b[0;34m\u001b[0m\u001b[0m\n\u001b[0;32m---> 37\u001b[0;31m         \u001b[0mself\u001b[0m\u001b[0;34m.\u001b[0m\u001b[0mblockchain\u001b[0m\u001b[0;34m.\u001b[0m\u001b[0mappend\u001b[0m\u001b[0;34m(\u001b[0m\u001b[0mself\u001b[0m\u001b[0;34m.\u001b[0m\u001b[0mgenesis_block\u001b[0m\u001b[0;34m(\u001b[0m\u001b[0;34m)\u001b[0m\u001b[0;34m)\u001b[0m\u001b[0;34m\u001b[0m\u001b[0;34m\u001b[0m\u001b[0m\n\u001b[0m\u001b[1;32m     38\u001b[0m     \u001b[0;32mdef\u001b[0m \u001b[0mgenesis_block\u001b[0m\u001b[0;34m(\u001b[0m\u001b[0mself\u001b[0m\u001b[0;34m)\u001b[0m\u001b[0;34m:\u001b[0m\u001b[0;34m\u001b[0m\u001b[0;34m\u001b[0m\u001b[0m\n\u001b[1;32m     39\u001b[0m         \u001b[0;32mreturn\u001b[0m \u001b[0mBlock\u001b[0m\u001b[0;34m(\u001b[0m\u001b[0mself\u001b[0m\u001b[0;34m.\u001b[0m\u001b[0mproof_of_work_zeros\u001b[0m\u001b[0;34m,\u001b[0m\u001b[0;36m0\u001b[0m\u001b[0;34m,\u001b[0m\u001b[0mself\u001b[0m\u001b[0;34m.\u001b[0m\u001b[0mnarry\u001b[0m\u001b[0;34m,\u001b[0m\u001b[0;34m[\u001b[0m\u001b[0;34m'dummy'\u001b[0m\u001b[0;34m]\u001b[0m\u001b[0;34m,\u001b[0m\u001b[0;34m'0'\u001b[0m\u001b[0;34m)\u001b[0m\u001b[0;34m\u001b[0m\u001b[0;34m\u001b[0m\u001b[0m\n",
      "\u001b[0;32m<ipython-input-77-3a53a752791b>\u001b[0m in \u001b[0;36mgenesis_block\u001b[0;34m(self)\u001b[0m\n\u001b[1;32m     37\u001b[0m         \u001b[0mself\u001b[0m\u001b[0;34m.\u001b[0m\u001b[0mblockchain\u001b[0m\u001b[0;34m.\u001b[0m\u001b[0mappend\u001b[0m\u001b[0;34m(\u001b[0m\u001b[0mself\u001b[0m\u001b[0;34m.\u001b[0m\u001b[0mgenesis_block\u001b[0m\u001b[0;34m(\u001b[0m\u001b[0;34m)\u001b[0m\u001b[0;34m)\u001b[0m\u001b[0;34m\u001b[0m\u001b[0;34m\u001b[0m\u001b[0m\n\u001b[1;32m     38\u001b[0m     \u001b[0;32mdef\u001b[0m \u001b[0mgenesis_block\u001b[0m\u001b[0;34m(\u001b[0m\u001b[0mself\u001b[0m\u001b[0;34m)\u001b[0m\u001b[0;34m:\u001b[0m\u001b[0;34m\u001b[0m\u001b[0;34m\u001b[0m\u001b[0m\n\u001b[0;32m---> 39\u001b[0;31m         \u001b[0;32mreturn\u001b[0m \u001b[0mBlock\u001b[0m\u001b[0;34m(\u001b[0m\u001b[0mself\u001b[0m\u001b[0;34m.\u001b[0m\u001b[0mproof_of_work_zeros\u001b[0m\u001b[0;34m,\u001b[0m\u001b[0;36m0\u001b[0m\u001b[0;34m,\u001b[0m\u001b[0mself\u001b[0m\u001b[0;34m.\u001b[0m\u001b[0mnarry\u001b[0m\u001b[0;34m,\u001b[0m\u001b[0;34m[\u001b[0m\u001b[0;34m'dummy'\u001b[0m\u001b[0;34m]\u001b[0m\u001b[0;34m,\u001b[0m\u001b[0;34m'0'\u001b[0m\u001b[0;34m)\u001b[0m\u001b[0;34m\u001b[0m\u001b[0;34m\u001b[0m\u001b[0m\n\u001b[0m\u001b[1;32m     40\u001b[0m \u001b[0;34m\u001b[0m\u001b[0m\n\u001b[1;32m     41\u001b[0m     \u001b[0;32mdef\u001b[0m \u001b[0madd_block\u001b[0m\u001b[0;34m(\u001b[0m\u001b[0mblock\u001b[0m\u001b[0;34m)\u001b[0m\u001b[0;34m:\u001b[0m\u001b[0;34m\u001b[0m\u001b[0;34m\u001b[0m\u001b[0m\n",
      "\u001b[0;32m<ipython-input-77-3a53a752791b>\u001b[0m in \u001b[0;36m__init__\u001b[0;34m(self, proof_of_work_zeros, index, narry, transactions, previous_block_hash)\u001b[0m\n\u001b[1;32m      9\u001b[0m         \u001b[0mself\u001b[0m\u001b[0;34m.\u001b[0m\u001b[0mnarry\u001b[0m \u001b[0;34m=\u001b[0m \u001b[0mnarry\u001b[0m\u001b[0;34m\u001b[0m\u001b[0;34m\u001b[0m\u001b[0m\n\u001b[1;32m     10\u001b[0m         \u001b[0mself\u001b[0m\u001b[0;34m.\u001b[0m\u001b[0mtransactions\u001b[0m \u001b[0;34m=\u001b[0m \u001b[0mtransactions\u001b[0m\u001b[0;34m\u001b[0m\u001b[0;34m\u001b[0m\u001b[0m\n\u001b[0;32m---> 11\u001b[0;31m         \u001b[0mself\u001b[0m\u001b[0;34m.\u001b[0m\u001b[0mmerkle_tree\u001b[0m \u001b[0;34m=\u001b[0m \u001b[0mcreate_merkle_tree\u001b[0m\u001b[0;34m(\u001b[0m\u001b[0;34m[\u001b[0m\u001b[0mitem\u001b[0m\u001b[0;34m.\u001b[0m\u001b[0mtxid\u001b[0m \u001b[0;32mfor\u001b[0m \u001b[0mitem\u001b[0m \u001b[0;32min\u001b[0m \u001b[0mself\u001b[0m\u001b[0;34m.\u001b[0m\u001b[0mtransactions\u001b[0m\u001b[0;34m]\u001b[0m\u001b[0;34m,\u001b[0m\u001b[0mself\u001b[0m\u001b[0;34m.\u001b[0m\u001b[0mnarry\u001b[0m\u001b[0;34m)\u001b[0m \u001b[0;31m#### given the list of transactions, create their hashes and get the\u001b[0m\u001b[0;34m\u001b[0m\u001b[0;34m\u001b[0m\u001b[0m\n\u001b[0m\u001b[1;32m     12\u001b[0m         \u001b[0mself\u001b[0m\u001b[0;34m.\u001b[0m\u001b[0mmerkle_tree_root\u001b[0m \u001b[0;34m=\u001b[0m \u001b[0mself\u001b[0m\u001b[0;34m.\u001b[0m\u001b[0mmerkle_tree\u001b[0m\u001b[0;34m[\u001b[0m\u001b[0;34m-\u001b[0m\u001b[0;36m1\u001b[0m\u001b[0;34m]\u001b[0m\u001b[0;34m[\u001b[0m\u001b[0;36m0\u001b[0m\u001b[0;34m]\u001b[0m\u001b[0;34m\u001b[0m\u001b[0;34m\u001b[0m\u001b[0m\n\u001b[1;32m     13\u001b[0m         \u001b[0mself\u001b[0m\u001b[0;34m.\u001b[0m\u001b[0mindex\u001b[0m \u001b[0;34m=\u001b[0m \u001b[0mindex\u001b[0m\u001b[0;34m\u001b[0m\u001b[0;34m\u001b[0m\u001b[0m\n",
      "\u001b[0;32m<ipython-input-77-3a53a752791b>\u001b[0m in \u001b[0;36m<listcomp>\u001b[0;34m(.0)\u001b[0m\n\u001b[1;32m      9\u001b[0m         \u001b[0mself\u001b[0m\u001b[0;34m.\u001b[0m\u001b[0mnarry\u001b[0m \u001b[0;34m=\u001b[0m \u001b[0mnarry\u001b[0m\u001b[0;34m\u001b[0m\u001b[0;34m\u001b[0m\u001b[0m\n\u001b[1;32m     10\u001b[0m         \u001b[0mself\u001b[0m\u001b[0;34m.\u001b[0m\u001b[0mtransactions\u001b[0m \u001b[0;34m=\u001b[0m \u001b[0mtransactions\u001b[0m\u001b[0;34m\u001b[0m\u001b[0;34m\u001b[0m\u001b[0m\n\u001b[0;32m---> 11\u001b[0;31m         \u001b[0mself\u001b[0m\u001b[0;34m.\u001b[0m\u001b[0mmerkle_tree\u001b[0m \u001b[0;34m=\u001b[0m \u001b[0mcreate_merkle_tree\u001b[0m\u001b[0;34m(\u001b[0m\u001b[0;34m[\u001b[0m\u001b[0mitem\u001b[0m\u001b[0;34m.\u001b[0m\u001b[0mtxid\u001b[0m \u001b[0;32mfor\u001b[0m \u001b[0mitem\u001b[0m \u001b[0;32min\u001b[0m \u001b[0mself\u001b[0m\u001b[0;34m.\u001b[0m\u001b[0mtransactions\u001b[0m\u001b[0;34m]\u001b[0m\u001b[0;34m,\u001b[0m\u001b[0mself\u001b[0m\u001b[0;34m.\u001b[0m\u001b[0mnarry\u001b[0m\u001b[0;34m)\u001b[0m \u001b[0;31m#### given the list of transactions, create their hashes and get the\u001b[0m\u001b[0;34m\u001b[0m\u001b[0;34m\u001b[0m\u001b[0m\n\u001b[0m\u001b[1;32m     12\u001b[0m         \u001b[0mself\u001b[0m\u001b[0;34m.\u001b[0m\u001b[0mmerkle_tree_root\u001b[0m \u001b[0;34m=\u001b[0m \u001b[0mself\u001b[0m\u001b[0;34m.\u001b[0m\u001b[0mmerkle_tree\u001b[0m\u001b[0;34m[\u001b[0m\u001b[0;34m-\u001b[0m\u001b[0;36m1\u001b[0m\u001b[0;34m]\u001b[0m\u001b[0;34m[\u001b[0m\u001b[0;36m0\u001b[0m\u001b[0;34m]\u001b[0m\u001b[0;34m\u001b[0m\u001b[0;34m\u001b[0m\u001b[0m\n\u001b[1;32m     13\u001b[0m         \u001b[0mself\u001b[0m\u001b[0;34m.\u001b[0m\u001b[0mindex\u001b[0m \u001b[0;34m=\u001b[0m \u001b[0mindex\u001b[0m\u001b[0;34m\u001b[0m\u001b[0;34m\u001b[0m\u001b[0m\n",
      "\u001b[0;31mAttributeError\u001b[0m: 'str' object has no attribute 'txid'"
     ]
    }
   ],
   "source": [
    "a  = BlockChain(3,4)"
   ]
  },
  {
   "cell_type": "code",
   "execution_count": 26,
   "metadata": {},
   "outputs": [],
   "source": [
    "from crypto_functions import generate_hash,generate_public_private_keys,key_in_RSA_object,sign_data,verify_sign\n",
    "import base64\n",
    "pub,pri = generate_public_private_keys()\n",
    "pub = key_in_RSA_object(pub)\n",
    "pri = key_in_RSA_object(pri)\n",
    "\n",
    "message = \"I need to sign this\"\n",
    "sign = sign_data(message,pri)\n",
    "#sign == bytes.fromhex(sign.hex())\n"
   ]
  },
  {
   "cell_type": "code",
   "execution_count": 79,
   "metadata": {},
   "outputs": [],
   "source": [
    "from crypto_functions import generate_hash,generate_public_private_keys,key_in_RSA_object,sign_data,verify_sign\n",
    "\n",
    "class Transaction():\n",
    "    def __init__(self,sender_address,inputs,outputs,private_key):\n",
    "        self.tx_in_ct = len(inputs)\n",
    "        self.tx_in = inputs\n",
    "        self.tx_out_ct = len(outputs)\n",
    "        self.tx_out = outputs\n",
    "        self.time = str(int(time.time()))\n",
    "        self.sender_address = sender_address.hex()  ### sender_address/publickey in bytes\n",
    "        self.sign = self.sign_transaction(key_in_RSA_object(private_key)) ### private_key is byte\n",
    "        self.idx = generate_hash(str(self))\n",
    "    def __str__(self):\n",
    "        rep = self.time + str(self.tx_in_ct) + str(self.tx_out_ct) +\"--\"\n",
    "        for tx in self.tx_in:\n",
    "            rep+= str(tx)\n",
    "        for tx in self.tx_out:\n",
    "            rep+= str(tx)\n",
    "        rep += self.sender_address\n",
    "        return rep\n",
    "    def sign_transaction(self,private_key):\n",
    "        return sign_data(str(self),private_key)\n",
    "    def verify_sign_transaction(self):\n",
    "        return verify_sign(str(self),self.sign,key_in_RSA_object(bytes.fromhex(self.sender_address)))\n",
    "        \n",
    "        \n",
    "class Input():\n",
    "    def __init__(self,prev_output_tid,index):\n",
    "        self.prev_output_tid = prev_output_tid\n",
    "        self.prev_output_index = index\n",
    "    def __str__(self):\n",
    "        return str(self.prev_output_tid) + \"--\" + str(self.prev_output_index)\n",
    "class Output():\n",
    "    def __init__(self,to_address,amount): ###to_address is hexadecimal\n",
    "        self.to_address = generate_hash(to_address)\n",
    "        self.amount = amount\n",
    "    def __str__(self):\n",
    "        return str(self.to_address) +\"--\" +str(self.amount)\n",
    "\n",
    "    \n",
    "\n"
   ]
  },
  {
   "cell_type": "code",
   "execution_count": 57,
   "metadata": {},
   "outputs": [],
   "source": [
    "send_add = pub.exportKey('PEM')\n",
    "private_key = pri.exportKey('PEM')"
   ]
  },
  {
   "cell_type": "code",
   "execution_count": 59,
   "metadata": {},
   "outputs": [
    {
     "data": {
      "text/plain": [
       "'2d2d2d2d2d424547494e205055424c4943204b45592d2d2d2d2d0a4d4947664d413047435371475349623344514542415155414134474e4144434269514b426751434e5271306171417639566e37386862784732305875487346720a593869394578414858484f2f756b596430774352706a614735556776506f7479666969655851573243754e57474f4d7a512b72723241734c4e69544a61756e6f0a745a466f2f67445643436750575752383961716a31774f5063556337536b6963774c6b77582b4534736170666639383554456f61786279706a463879566b2b430a746665684a3877615573722f4658786c72774944415141420a2d2d2d2d2d454e44205055424c4943204b45592d2d2d2d2d'"
      ]
     },
     "execution_count": 59,
     "metadata": {},
     "output_type": "execute_result"
    }
   ],
   "source": [
    "send_add.hex()"
   ]
  },
  {
   "cell_type": "code",
   "execution_count": 80,
   "metadata": {},
   "outputs": [
    {
     "name": "stdout",
     "output_type": "stream",
     "text": [
      "2d2d2d2d2d424547494e205055424c4943204b45592d2d2d2d2d0a4d4947664d413047435371475349623344514542415155414134474e4144434269514b426751434e5271306171417639566e37386862784732305875487346720a593869394578414858484f2f756b596430774352706a614735556776506f7479666969655851573243754e57474f4d7a512b72723241734c4e69544a61756e6f0a745a466f2f67445643436750575752383961716a31774f5063556337536b6963774c6b77582b4534736170666639383554456f61786279706a463879566b2b430a746665684a3877615573722f4658786c72774944415141420a2d2d2d2d2d454e44205055424c4943204b45592d2d2d2d2d\n"
     ]
    }
   ],
   "source": [
    "input1 = Input('1313131',0)\n",
    "input2 = Input('3113131',1)\n",
    "output1 = Output('763231',10)\n",
    "print(send_add.hex())\n",
    "output2 = Output(send_add.hex(),95)"
   ]
  },
  {
   "cell_type": "code",
   "execution_count": 81,
   "metadata": {},
   "outputs": [],
   "source": [
    "t = Transaction(send_add,[input1,input2],[output1,output2],private_key)"
   ]
  },
  {
   "cell_type": "code",
   "execution_count": 87,
   "metadata": {},
   "outputs": [
    {
     "name": "stdout",
     "output_type": "stream",
     "text": [
      "tx_in_ct 2\n",
      "tx_in [<__main__.Input object at 0x10c26fda0>, <__main__.Input object at 0x10c26f320>]\n",
      "tx_out_ct 2\n",
      "tx_out [<__main__.Output object at 0x10c26fc18>, <__main__.Output object at 0x10c26f8d0>]\n",
      "time 1593271558\n",
      "sender_address 2d2d2d2d2d424547494e205055424c4943204b45592d2d2d2d2d0a4d4947664d413047435371475349623344514542415155414134474e4144434269514b426751434e5271306171417639566e37386862784732305875487346720a593869394578414858484f2f756b596430774352706a614735556776506f7479666969655851573243754e57474f4d7a512b72723241734c4e69544a61756e6f0a745a466f2f67445643436750575752383961716a31774f5063556337536b6963774c6b77582b4534736170666639383554456f61786279706a463879566b2b430a746665684a3877615573722f4658786c72774944415141420a2d2d2d2d2d454e44205055424c4943204b45592d2d2d2d2d\n",
      "sign b'm\\\\Q\\xe6\\xcfT\\xc0[\\x887vt\\x80,uv\\x0b\\x87Ff\\xd5\\x8fOR\\xb0\\xb5Up5j\\x8f \\t\\xfe\\xd2\\x0f\\xba\\xd4#\\x14t\\xd6\\x03\\xd1\\x98\\xec\\xec\\xf4\\x03\\xfb\\xc6\\xa0\\x96K\\x1a\\xce\\xd1\\x89\\xe6_\\xc9\\x8c\\xa8\\xc7\\xbd\\xc1\\xd4n\\x07b\\x07\\t\\xebL~\\xff\\xe0\\xb4\\xac\\n\\xa0\\xcav/\\xdaF3\\x8e\\x89\\xbfu\\xe0\\xfe\\x9c\\x0e\\xc6\\xdbb\\xde\\xaa\\x00\\xa65 \\x11\\x10F}f\\xd1\\x13\\x037\\xacy\\xa8\\xfe\\x83A*\\x0e\\x9f\\x1d\\xbd\\xe1\\xc2\\x86a'\n",
      "idx d7704995dcde10506ce12f5e56322d8c720751b15afd358bddbbd30c80ae7925\n"
     ]
    }
   ],
   "source": [
    "for key, value in vars(t).items():\n",
    "    print(key, value)"
   ]
  },
  {
   "cell_type": "code",
   "execution_count": 54,
   "metadata": {},
   "outputs": [
    {
     "data": {
      "text/plain": [
       "False"
      ]
     },
     "execution_count": 54,
     "metadata": {},
     "output_type": "execute_result"
    }
   ],
   "source": [
    "t.verify_sign_transaction()"
   ]
  },
  {
   "cell_type": "code",
   "execution_count": 24,
   "metadata": {},
   "outputs": [
    {
     "name": "stdout",
     "output_type": "stream",
     "text": [
      "b'-----BEGIN PUBLIC KEY-----\\nMIGfMA0GCSqGSIb3DQEBAQUAA4GNADCBiQKBgQCr1KC99yxSpNJt8eA9VDeN9pO1\\nTUUP45wqNFqvY+hTF1Z7LPWWo1End+yvWb03X5RxPdlptPQDR3GI3Dcca+MbQiCl\\n7VtErdD6SkhqqqI3FXRuUA8a2a3JEFXFIwq9CAkMxRC00BkkFh2Xw+Fg2bXEGk/X\\nheIlXLYEMBKDKTOk4QIDAQAB\\n-----END PUBLIC KEY-----'\n"
     ]
    }
   ],
   "source": [
    "a = pub.exportKey('PEM')\n",
    "print(a)"
   ]
  },
  {
   "cell_type": "code",
   "execution_count": 11,
   "metadata": {},
   "outputs": [
    {
     "data": {
      "text/plain": [
       "'3fe1f7584833183e2da842b2f18123186919d4aa9828dbebdb3956429d9607bb--0'"
      ]
     },
     "execution_count": 11,
     "metadata": {},
     "output_type": "execute_result"
    }
   ],
   "source": [
    "str((generate_hash('131313'),0))\n"
   ]
  },
  {
   "cell_type": "code",
   "execution_count": 6,
   "metadata": {},
   "outputs": [
    {
     "data": {
      "text/plain": [
       "'1592335755.3907351'"
      ]
     },
     "execution_count": 6,
     "metadata": {},
     "output_type": "execute_result"
    }
   ],
   "source": [
    "import time\n",
    "seconds = time.time()\n",
    "str(seconds)"
   ]
  },
  {
   "cell_type": "code",
   "execution_count": null,
   "metadata": {},
   "outputs": [],
   "source": [
    "transactions = ['a','b','c','d','e']\n",
    "block = Block(6,0,3,transactions,'dlafdffafdafdafladsfdasfafafafafasfdafadadfa')"
   ]
  },
  {
   "cell_type": "code",
   "execution_count": null,
   "metadata": {},
   "outputs": [],
   "source": [
    "block.nounce"
   ]
  },
  {
   "cell_type": "code",
   "execution_count": null,
   "metadata": {},
   "outputs": [],
   "source": [
    "get_hash(block.merkle_tree_root+'dlafdffafdafdafladsfdasfafafafafasfdafadadfa'+'19662606')"
   ]
  },
  {
   "cell_type": "code",
   "execution_count": null,
   "metadata": {},
   "outputs": [],
   "source": [
    "from Crypto.PublicKey import RSA"
   ]
  },
  {
   "cell_type": "code",
   "execution_count": 63,
   "metadata": {},
   "outputs": [],
   "source": [
    "from Crypto.Hash import SHA256,SHA1,SHA224,SHA384,SHA512\n",
    "import Crypto\n",
    "import hashlib"
   ]
  },
  {
   "cell_type": "code",
   "execution_count": 61,
   "metadata": {},
   "outputs": [],
   "source": [
    "def generate_hash(string):\n",
    "    return hashlib.sha256(string.encode()).hexdigest()"
   ]
  },
  {
   "cell_type": "code",
   "execution_count": 64,
   "metadata": {},
   "outputs": [
    {
     "data": {
      "text/plain": [
       "'80e90a2e0fe2f9a6671ceb6fa5591caa4f814a6c0d32018192365d6bfdd53e8d'"
      ]
     },
     "execution_count": 64,
     "metadata": {},
     "output_type": "execute_result"
    }
   ],
   "source": [
    "string = 'HelloHOWAREYOU'\n",
    "generate_hash(string)"
   ]
  },
  {
   "cell_type": "code",
   "execution_count": 72,
   "metadata": {},
   "outputs": [],
   "source": [
    "def generate_hash(string,type='SHA256'):\n",
    "    if type == 'SHA1':\n",
    "        obj = SHA1.new()\n",
    "    if type == 'SHA224':\n",
    "        obj = SHA224.new()\n",
    "    if type == 'SHA256':\n",
    "        obj = SHA256.new()\n",
    "    if type == 'SHA384':\n",
    "        obj = SHA384.new()\n",
    "    if type == 'SHA512':\n",
    "        obj = SHA512.new()\n",
    "    \n",
    "    obj.update(string.encode())\n",
    "    return obj.hexdigest()"
   ]
  },
  {
   "cell_type": "code",
   "execution_count": 74,
   "metadata": {},
   "outputs": [
    {
     "name": "stdout",
     "output_type": "stream",
     "text": [
      "4f38d2f8dee0b167bfc056118f8f606efe964ca8\n",
      "40\n",
      "4728ca201d57104eb574e92a31bf6b887efb503426ecd75135f87c02\n",
      "56\n",
      "80e90a2e0fe2f9a6671ceb6fa5591caa4f814a6c0d32018192365d6bfdd53e8d\n",
      "64\n",
      "2c14b8d7b9681965fdffa5901d945587d566c8a3df1ea45fe94843aa96be662bd12d8d36797bef5a0561aff04869be7a\n",
      "96\n",
      "a8fa946d61128d42b29ce08e73ca7ebc189bf66c152d3a8b4d5a1c16aee29f17e61c92e91f74685add3446358a80945bc70ca9039f24e0859380ddc10584028f\n",
      "128\n"
     ]
    }
   ],
   "source": [
    "for type in ['SHA1','SHA224','SHA256','SHA384','SHA512']:\n",
    "    ans = generate_hash(string,type)\n",
    "    print(ans)\n",
    "    print(len(ans))\n"
   ]
  },
  {
   "cell_type": "code",
   "execution_count": 76,
   "metadata": {},
   "outputs": [
    {
     "data": {
      "text/plain": [
       "64.0"
      ]
     },
     "execution_count": 76,
     "metadata": {},
     "output_type": "execute_result"
    }
   ],
   "source": [
    "256/4"
   ]
  },
  {
   "cell_type": "code",
   "execution_count": null,
   "metadata": {},
   "outputs": [],
   "source": [
    "\n",
    "\n",
    "#sign == bytes.fromhex(sign.hex())\n",
    "\n",
    "\n",
    "def generate_sha_hash(string,type='SHA256'):\n",
    "    "
   ]
  },
  {
   "cell_type": "code",
   "execution_count": 88,
   "metadata": {},
   "outputs": [],
   "source": [
    "a = {}\n",
    "a[b'hello'] = 'test'"
   ]
  },
  {
   "cell_type": "code",
   "execution_count": 92,
   "metadata": {},
   "outputs": [
    {
     "ename": "TypeError",
     "evalue": "'str' object is not callable",
     "output_type": "error",
     "traceback": [
      "\u001b[0;31m---------------------------------------------------------------------------\u001b[0m",
      "\u001b[0;31mTypeError\u001b[0m                                 Traceback (most recent call last)",
      "\u001b[0;32m<ipython-input-92-9ee4d30e4903>\u001b[0m in \u001b[0;36m<module>\u001b[0;34m\u001b[0m\n\u001b[0;32m----> 1\u001b[0;31m \u001b[0mtype\u001b[0m\u001b[0;34m(\u001b[0m\u001b[0mlist\u001b[0m\u001b[0;34m(\u001b[0m\u001b[0ma\u001b[0m\u001b[0;34m.\u001b[0m\u001b[0mkeys\u001b[0m\u001b[0;34m(\u001b[0m\u001b[0;34m)\u001b[0m\u001b[0;34m)\u001b[0m\u001b[0;34m[\u001b[0m\u001b[0;36m0\u001b[0m\u001b[0;34m]\u001b[0m\u001b[0;34m)\u001b[0m\u001b[0;34m\u001b[0m\u001b[0;34m\u001b[0m\u001b[0m\n\u001b[0m",
      "\u001b[0;31mTypeError\u001b[0m: 'str' object is not callable"
     ]
    }
   ],
   "source": [
    "list(a.keys())[0]"
   ]
  },
  {
   "cell_type": "code",
   "execution_count": 93,
   "metadata": {},
   "outputs": [
    {
     "data": {
      "text/plain": [
       "1593290956.6879811"
      ]
     },
     "execution_count": 93,
     "metadata": {},
     "output_type": "execute_result"
    }
   ],
   "source": [
    "int(time.time()"
   ]
  },
  {
   "cell_type": "code",
   "execution_count": 94,
   "metadata": {},
   "outputs": [
    {
     "data": {
      "text/plain": [
       "1593291015.056674"
      ]
     },
     "execution_count": 94,
     "metadata": {},
     "output_type": "execute_result"
    }
   ],
   "source": [
    "time.time()"
   ]
  },
  {
   "cell_type": "code",
   "execution_count": null,
   "metadata": {},
   "outputs": [],
   "source": []
  }
 ],
 "metadata": {
  "kernelspec": {
   "display_name": "Python 3",
   "language": "python",
   "name": "python3"
  },
  "language_info": {
   "codemirror_mode": {
    "name": "ipython",
    "version": 3
   },
   "file_extension": ".py",
   "mimetype": "text/x-python",
   "name": "python",
   "nbconvert_exporter": "python",
   "pygments_lexer": "ipython3",
   "version": "3.7.3"
  }
 },
 "nbformat": 4,
 "nbformat_minor": 4
}
