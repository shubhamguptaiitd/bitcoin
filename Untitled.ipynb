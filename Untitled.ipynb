{
 "cells": [
  {
   "cell_type": "code",
   "execution_count": 2,
   "metadata": {},
   "outputs": [],
   "source": [
    "from MerkleTree import create_merkle_tree,verify_transaction_given_merkle_tree_and_merkle_root\n",
    "import random\n",
    "def count_leading_zero_string(string):\n",
    "    return len(string) - len(string.lstrip('0'))\n",
    "class Block():\n",
    "    \n",
    "    def __init__(self,proof_of_work_zeros,index,narry,transactions,previous_block_hash):\n",
    "        self.previous_block_hash = previous_block_hash\n",
    "        self.narry = narry\n",
    "        self.transactions = transactions\n",
    "        self.merkle_tree = create_merkle_tree(self.transactions,self.narry) #### given the list of transactions, create their hashes and get the\n",
    "        self.merkle_tree_root = self.merkle_tree[-1][0]\n",
    "        self.index = index\n",
    "        self.pow_number_of_zeros = proof_of_work_zeros\n",
    "        print(\"computing proof of work\")\n",
    "        self.compute_proof_of_work()\n",
    "        self.magic_number = None\n",
    "        self.version = None ### It specifies the \n",
    "        self.transactions_count = len(self.transactions)\n",
    "        self.block_reward = None\n",
    "        self.fee_reward = None\n",
    "    def compute_proof_of_work(self):\n",
    "        self.block_hash = ''\n",
    "        self.nounce = 0\n",
    "        while count_leading_zero_string(self.block_hash) != self.pow_number_of_zeros:\n",
    "            string = self.merkle_tree_root + self.previous_block_hash + str(self.nounce)\n",
    "            self.block_hash = get_hash(string)\n",
    "            self.nounce += 1\n",
    "            if self.nounce%1000000 == 0:\n",
    "                print(\"done nounce,\", self.nounce)\n",
    "        self.nounce = self.nounce - 1\n",
    "        \n",
    "        \n",
    "class BlockChain():\n",
    "    def __init__(self,narry,proof_of_work_zeros):\n",
    "        self.proof_of_work_zeros = proof_of_work_zeros\n",
    "        self.narry= narry\n",
    "        self.blockchain = []\n",
    "        self.blockchain.append(self.genesis_block())\n",
    "    def genesis_block(self):\n",
    "        return Block(self.proof_of_work_zeros,0,self.narry,['dummy'],'0')\n",
    "        \n",
    "    def add_block(block):\n",
    "        #### code for verifing the new block\n",
    "        #### Add the code in blockchain if verified #####\n",
    "        self.blockchain.append(block)  #### also need to see if block is referencing to previous member of block, forking will happen\n",
    "        \n",
    "        \n",
    "        "
   ]
  },
  {
   "cell_type": "code",
   "execution_count": null,
   "metadata": {},
   "outputs": [],
   "source": [
    "a  = BlockChain(3,4)"
   ]
  },
  {
   "cell_type": "code",
   "execution_count": 3,
   "metadata": {},
   "outputs": [],
   "source": [
    "from crypto_functions import generate_hash,generate_public_private_keys,key_in_RSA_object,sign_data,verify_sign\n",
    "import base64\n",
    "pub,pri = generate_public_private_keys()\n",
    "pub = key_in_RSA_object(pub)\n",
    "pri = key_in_RSA_object(pri)\n",
    "\n",
    "message = \"I need to sign this\"\n",
    "sign = sign_data(message,pri)\n",
    "#sign == bytes.fromhex(sign.hex())\n"
   ]
  },
  {
   "cell_type": "code",
   "execution_count": 21,
   "metadata": {},
   "outputs": [],
   "source": [
    "class Transaction():\n",
    "    def __init__(self,sender_address,inputs,outputs,private_key):\n",
    "        self.tx_in_ct = len(inputs)\n",
    "        self.tx_in = inputs\n",
    "        self.txt_out_ct = len(outputs)\n",
    "        self.tx_out = outputs\n",
    "        self.time = str(int(time.time()))\n",
    "        self.sender_address = sender_address  ### sender_address in hex address\n",
    "        self.sign = sign_transaction(private_key)\n",
    "    def __str__(self):\n",
    "        rep = self.time + str(self.tx_in_ct) + str(self.tx_out_ct)\n",
    "        for tx in self.tx_in:\n",
    "            rep+= str(tx)\n",
    "        for tx in self.tx_out:\n",
    "            rep+= str(tx)\n",
    "        rep += sender_address\n",
    "        return rep\n",
    "    def sign_transaction(self,private_key):\n",
    "        return sign_data(str(self),private_key)\n",
    "    def verify_transaction(self):\n",
    "        return verify_sign(str(self),self.sign,bytes.fromhex(self.sender_address))\n",
    "        \n",
    "class Input():\n",
    "    def __init__(self,prev_output_tid,index):\n",
    "        self.prev_output_tid = prev_output_tid\n",
    "        self.prev_output_index = index\n",
    "    def __str__(self):\n",
    "        return str(self.prev_output_tid) + \"--\" + str(self.prev_output_index)\n",
    "class Output():\n",
    "    def __init__(self,to_address,amount): ###to_address is hexadecimal\n",
    "        self.to_address = generate_hash(to_address)\n",
    "        self.amount = amount\n",
    "    def __str__(self):\n",
    "        return str(self.to_address) +\"--\" +str(self.amount)\n",
    "\n",
    "    \n",
    "    \n"
   ]
  },
  {
   "cell_type": "code",
   "execution_count": 24,
   "metadata": {},
   "outputs": [
    {
     "name": "stdout",
     "output_type": "stream",
     "text": [
      "b'-----BEGIN PUBLIC KEY-----\\nMIGfMA0GCSqGSIb3DQEBAQUAA4GNADCBiQKBgQCr1KC99yxSpNJt8eA9VDeN9pO1\\nTUUP45wqNFqvY+hTF1Z7LPWWo1End+yvWb03X5RxPdlptPQDR3GI3Dcca+MbQiCl\\n7VtErdD6SkhqqqI3FXRuUA8a2a3JEFXFIwq9CAkMxRC00BkkFh2Xw+Fg2bXEGk/X\\nheIlXLYEMBKDKTOk4QIDAQAB\\n-----END PUBLIC KEY-----'\n"
     ]
    }
   ],
   "source": [
    "a = pub.exportKey('PEM')\n",
    "print(a)"
   ]
  },
  {
   "cell_type": "code",
   "execution_count": 25,
   "metadata": {},
   "outputs": [
    {
     "data": {
      "text/plain": [
       "b'-----BEGIN PUBLIC KEY-----\\nMIGfMA0GCSqGSIb3DQEBAQUAA4GNADCBiQKBgQCr1KC99yxSpNJt8eA9VDeN9pO1\\nTUUP45wqNFqvY+hTF1Z7LPWWo1End+yvWb03X5RxPdlptPQDR3GI3Dcca+MbQiCl\\n7VtErdD6SkhqqqI3FXRuUA8a2a3JEFXFIwq9CAkMxRC00BkkFh2Xw+Fg2bXEGk/X\\nheIlXLYEMBKDKTOk4QIDAQAB\\n-----END PUBLIC KEY-----'"
      ]
     },
     "execution_count": 25,
     "metadata": {},
     "output_type": "execute_result"
    }
   ],
   "source": [
    "bytes.fromhex(a.hex())"
   ]
  },
  {
   "cell_type": "code",
   "execution_count": null,
   "metadata": {},
   "outputs": [],
   "source": [
    "Output()"
   ]
  },
  {
   "cell_type": "code",
   "execution_count": 11,
   "metadata": {},
   "outputs": [
    {
     "data": {
      "text/plain": [
       "'3fe1f7584833183e2da842b2f18123186919d4aa9828dbebdb3956429d9607bb--0'"
      ]
     },
     "execution_count": 11,
     "metadata": {},
     "output_type": "execute_result"
    }
   ],
   "source": [
    "str((generate_hash('131313'),0))\n"
   ]
  },
  {
   "cell_type": "code",
   "execution_count": 6,
   "metadata": {},
   "outputs": [
    {
     "data": {
      "text/plain": [
       "'1592335755.3907351'"
      ]
     },
     "execution_count": 6,
     "metadata": {},
     "output_type": "execute_result"
    }
   ],
   "source": [
    "import time\n",
    "seconds = time.time()\n",
    "str(seconds)"
   ]
  },
  {
   "cell_type": "code",
   "execution_count": null,
   "metadata": {},
   "outputs": [],
   "source": [
    "transactions = ['a','b','c','d','e']\n",
    "block = Block(6,0,3,transactions,'dlafdffafdafdafladsfdasfafafafafasfdafadadfa')"
   ]
  },
  {
   "cell_type": "code",
   "execution_count": null,
   "metadata": {},
   "outputs": [],
   "source": [
    "block.nounce"
   ]
  },
  {
   "cell_type": "code",
   "execution_count": null,
   "metadata": {},
   "outputs": [],
   "source": [
    "get_hash(block.merkle_tree_root+'dlafdffafdafdafladsfdasfafafafafasfdafadadfa'+'19662606')"
   ]
  },
  {
   "cell_type": "code",
   "execution_count": null,
   "metadata": {},
   "outputs": [],
   "source": [
    "from Crypto.PublicKey import RSA"
   ]
  },
  {
   "cell_type": "code",
   "execution_count": null,
   "metadata": {},
   "outputs": [],
   "source": []
  }
 ],
 "metadata": {
  "kernelspec": {
   "display_name": "Python 3",
   "language": "python",
   "name": "python3"
  },
  "language_info": {
   "codemirror_mode": {
    "name": "ipython",
    "version": 3
   },
   "file_extension": ".py",
   "mimetype": "text/x-python",
   "name": "python",
   "nbconvert_exporter": "python",
   "pygments_lexer": "ipython3",
   "version": "3.7.3"
  }
 },
 "nbformat": 4,
 "nbformat_minor": 4
}
